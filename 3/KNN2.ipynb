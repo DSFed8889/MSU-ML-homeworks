{
 "cells": [
  {
   "cell_type": "markdown",
   "metadata": {
    "id": "4ATrTO6qNo0D"
   },
   "source": [
    "# Курс по машинному обучению,   ВМК МГУ\n",
    "# KNN: Классификация и регрессия"
   ]
  },
  {
   "cell_type": "markdown",
   "metadata": {
    "id": "X1U3FZXWNo0G"
   },
   "source": [
    "### Важно! О формате сдачи\n",
    "\n",
    "* **Задания из ноутбука, за исключением двух заданий на реализацию кода, оцениваются по системе <font color='red'>кросс-рецензирования</font>.**\n",
    "* **При решении ноутбука используйте данный шаблон. Не нужно удалять текстовые ячейки c разметкой частей ноутбука и формулировками заданий. Добавлять свои ячейки, при необходимости, конечно можно**\n",
    "* **Везде, где в формулровке задания есть какой-либо вопрос (или просьба вывода), необходимо прописать ответ в ячейку (код или markdown).**\n",
    "* **Наличие кода решения обязательно. Письменные ответы на вопросы без сопутствующего кода оцениваются в 0 баллов.**"
   ]
  },
  {
   "cell_type": "markdown",
   "metadata": {
    "id": "AMT9TikcNo0H"
   },
   "source": [
    "### Важно!\n",
    "\n",
    "**Перед тем, как сдать ноутбук на кросс-рецензирование, мы рекомендуем перезапустить ядро и выполнить весь ноутбук (cell -> run all)**"
   ]
  },
  {
   "cell_type": "markdown",
   "metadata": {
    "id": "HKiU3G3_No0I"
   },
   "source": [
    "# Часть 0. Знакомство с библиотекой scikit-learn"
   ]
  },
  {
   "cell_type": "markdown",
   "metadata": {
    "id": "x5GZOAbkNo0I"
   },
   "source": [
    "Scikit-learn - это библиотека машинного обучения с открытым исходным кодом, которая предоставляет различные инструменты для предобработки данных и обучения моделей.\n",
    "\n",
    "Каждый модуль предобработки данных имеет два метода: fit и transform. Как правило, метод fit принимает на вход **обучающую** выборку $X$ и считает по ней необходимые для заданного типа преобразования статистики. Метод transform преобразует входные **(train и test)** данные, используя статистики, посчитанные при вызове метода fit и возвращает преобразованные данные.\n",
    "\n",
    "Каждая модель машинного обучения имеет два метода: fit - метод ответственный за обучения модели и predict - метод ответственный за предсказание целевой переменной. Многие модели имеют метод predcit_proba, который возвращает вероятность принадлежности объекта к каждому из классов. Как правило, метод fit принимает на вход два аргумента: $X$ - **обучающая** выборка, $y$ - значения целевых переменных на объектах обучающей выборки. Метод predict принимает на вход набор данных и выдает предсказанные значения целевых переменных на этом наборе данных.\n",
    "\n",
    "Более подробно про библиотеку можно прочитать в документации по [ссылке](https://scikit-learn.org/stable/index.html)"
   ]
  },
  {
   "cell_type": "markdown",
   "metadata": {
    "id": "xs5JMXr9No0J"
   },
   "source": [
    "# Часть 1. Нормализация признакового пространства"
   ]
  },
  {
   "cell_type": "markdown",
   "metadata": {
    "id": "R3KT-oF5No0J"
   },
   "source": [
    "В задачах машинного обучения важную роль играет нормализация данных. Для числовых признаков, как правило, используют два типа нормализации:\n",
    "\n",
    "* Нормализация к распределению с нулевым матожиданием и единичной дисперсией $x := \\frac{x - E(x)}{\\sigma (x)}$, где матожидание $E(x)$ и стандартное отклонение $\\sigma (x)$ считаются по каждому признаку (столбцу) отдельно\n",
    "* Нормализация в отрезок [0, 1] $x := \\frac{x - \\min(x)}{\\max(x) - \\min(x)}$, где минимум и максимум берется по каждому признаку (столбцу) отдельно"
   ]
  },
  {
   "cell_type": "markdown",
   "metadata": {
    "id": "dhOs9WjNNo0K"
   },
   "source": [
    "Рассмотрим пример. Ниже приведены: таблца до нормализации признаков, таблица после нормализации к нулевому матожиданию и единичной дисперсии, таблица после нормализации в отрезок [0, 1]\n",
    "\n",
    "До нормализации \n",
    "\n",
    "| Признак 1   | Признак 2   |\n",
    "| ----------- | ----------- |\n",
    "| 1           | 2           |\n",
    "| 2           | -1          |\n",
    "| 3           | 0           |\n",
    "\n",
    "Нормализация к нулевому матожиданию и единичной дисперсии\n",
    "\n",
    "| Признак 1   | Признак 2   |\n",
    "| ----------- | ----------- |\n",
    "| -1.225      | 1.336       |\n",
    "| 0           | -1.069      |\n",
    "| 1.225       | -0.267      |\n",
    "\n",
    "Нормализация в отрезок [0, 1]\n",
    "\n",
    "| Признак 1   | Признак 2   |\n",
    "| ----------- | ----------- |\n",
    "| 0           | 1           |\n",
    "| 0.5         | 0           |\n",
    "| 1           | 0.333       |"
   ]
  },
  {
   "cell_type": "markdown",
   "metadata": {
    "id": "ekdMe9gSNo0L"
   },
   "source": [
    "**Задание 1.1** (тесты, 5 баллов) В модуле scalers.py реализуйте два вида нормализации признакового пространства. StandardScaler - нормализация к распределению с нулевым матожиданием и единичной дисперсией, MinMaxScaler - нормализация в отрезок [0, 1].\n",
    "\n",
    "Нормализаторы имеют два метода - метод fit и метод transform. Метод fit получает на вход **обучающую** выборку и считает по ней все необходимые для заданного преобразования статистики. Метод transform преобразует данные, используя статистистики, посчитанные при вызове метода fit."
   ]
  },
  {
   "cell_type": "markdown",
   "metadata": {
    "id": "KERdMm0ANo0M"
   },
   "source": [
    "Положите файл scalers.py в одну директорию с jupyter ноутбуком"
   ]
  },
  {
   "cell_type": "code",
   "execution_count": null,
   "metadata": {
    "id": "XLCwlZTeNo0M"
   },
   "outputs": [],
   "source": [
    "from scalers import StandardScaler, MinMaxScaler"
   ]
  },
  {
   "cell_type": "code",
   "execution_count": null,
   "metadata": {
    "id": "-PouXPw6No0N"
   },
   "outputs": [],
   "source": [
    "import numpy as np\n",
    "import seaborn as sns\n",
    "import pickle\n",
    "\n",
    "from matplotlib import pyplot as plt\n",
    "\n",
    "\n",
    "plt.rcParams[\"figure.figsize\"] = (5,5)"
   ]
  },
  {
   "cell_type": "markdown",
   "metadata": {
    "id": "dTGXyTwgNo0N"
   },
   "source": [
    "Загрузим данные в память. В переменной $X$ будут храниться признаковые описания объектов, в переменной $y~-$ метки классов"
   ]
  },
  {
   "cell_type": "code",
   "execution_count": null,
   "metadata": {
    "id": "kcBh0yhONo0O"
   },
   "outputs": [],
   "source": [
    "with open('data.pkl', 'rb') as file:\n",
    "    X, y = pickle.load(file)"
   ]
  },
  {
   "cell_type": "code",
   "execution_count": null,
   "metadata": {
    "id": "gd6ZkhfCNo0O"
   },
   "outputs": [],
   "source": [
    "def plot_data_points(X, labels, xlim, ylim):\n",
    "    g = sns.scatterplot(x=X[:, 0], y=X[:, 1], hue=labels)\n",
    "    g.set(xlim=xlim, ylim=ylim)\n",
    "    plt.xlabel('x')\n",
    "    plt.ylabel('y')\n",
    "    plt.grid()"
   ]
  },
  {
   "cell_type": "markdown",
   "metadata": {
    "id": "FSkSYSmcNo0O"
   },
   "source": [
    "Визуализируем наши данные"
   ]
  },
  {
   "cell_type": "code",
   "execution_count": null,
   "metadata": {
    "id": "vppxmN0xNo0O",
    "outputId": "6e51ce55-7ae1-465e-c313-793d1db4ecaa"
   },
   "outputs": [
    {
     "data": {
      "image/png": "[encoded data removed]",
      "text/plain": [
       "<Figure size 360x360 with 1 Axes>"
      ]
     },
     "metadata": {
      "needs_background": "light"
     },
     "output_type": "display_data"
    }
   ],
   "source": [
    "plot_data_points(X, y, xlim=(-15, 15), ylim=(-15, 15))"
   ]
  },
  {
   "cell_type": "markdown",
   "metadata": {
    "id": "dFFP2kC2No0P"
   },
   "source": [
    "Как видно, наши данные идеально разделяются прямой $x=0$"
   ]
  },
  {
   "cell_type": "markdown",
   "metadata": {
    "id": "D4Q55g5rNo0P"
   },
   "source": [
    "Функция $plot\\_knn\\_bound$ принимает на вход объекты $X$, метки классов $y$, метод нормализации признаков $scaler$, число соседей $n\\_neighbors$ и границы рисунка $xlim$, $ylim$. Функция обучает $KNN$ классификатор с числом соседей $n\\_neighbors$ и визуализирует разделяющую поверхность для классов, полученную с помощью обученного $KNN$ классификатора.\n",
    "\n",
    "* Если вы не можете различить _выбранные нами цвета_, то измените список цветов в переменных cmap_light и cmap_bold. Актуальный список возможных цветов находится [здесь](https://matplotlib.org/stable/tutorials/colors/colormaps.html)"
   ]
  },
  {
   "cell_type": "code",
   "execution_count": null,
   "metadata": {
    "id": "Yjf-RtNvNo0P"
   },
   "outputs": [],
   "source": [
    "from matplotlib.colors import ListedColormap\n",
    "from sklearn import neighbors, datasets\n",
    "\n",
    "def plot_knn_bound(X, y, scaler=None, n_neighbors=10, xlim=(-15, 15), ylim=(-20, 20)):\n",
    "    # step size in the mesh\n",
    "    h = 0.05\n",
    "\n",
    "    # Create color maps\n",
    "    cmap_light = ListedColormap(['C0', 'orange', 'cyan', 'green'][:np.unique(y).shape[0]])\n",
    "    cmap_bold = ['C0', 'orange', 'c', 'darkgreen'][:np.unique(y).shape[0]]\n",
    "\n",
    "    x_min, x_max = xlim\n",
    "    y_min, y_max = ylim\n",
    "    xx, yy = np.meshgrid(np.arange(x_min, x_max, h),\n",
    "                         np.arange(y_min, y_max, h))\n",
    "    grid = np.c_[xx.ravel(), yy.ravel()]\n",
    "    \n",
    "    X_scaled = X # if scaler is None\n",
    "    if scaler is not None:\n",
    "        grid = scaler.transform(grid)\n",
    "        X_scaled = scaler.transform(X)\n",
    "\n",
    "    # we create an instance of Neighbours Classifier and fit the data.\n",
    "    clf = neighbors.KNeighborsClassifier(n_neighbors, algorithm='brute')\n",
    "    clf.fit(X_scaled, y)\n",
    "\n",
    "    Z = clf.predict(grid)\n",
    "\n",
    "    # Put the result into a color plot\n",
    "    Z = Z.reshape(xx.shape)\n",
    "    plt.contourf(xx, yy, Z, cmap=cmap_light)\n",
    "\n",
    "    #     # Plot also the training points\n",
    "    sns.scatterplot(x=X[:, 0], y=X[:, 1], hue=y,\n",
    "                    palette=cmap_bold, alpha=1.0, edgecolor=\"black\")\n",
    "    plt.xlabel('x')\n",
    "    plt.ylabel('y')\n",
    "    plt.title('Разделющие поверхности алгоритма {}-NN'.format(n_neighbors))\n",
    "    plt.grid()\n",
    "    plt.show()"
   ]
  },
  {
   "cell_type": "markdown",
   "metadata": {
    "id": "F8EmwhEDNo0Q"
   },
   "source": [
    "Нарисуем разделющие поверхности $1$-$NN$ и $10$-$NN$"
   ]
  },
  {
   "cell_type": "code",
   "execution_count": null,
   "metadata": {
    "id": "LxDkuJByNo0Q",
    "outputId": "810db57d-0338-4d4c-9248-e22d18981ffb"
   },
   "outputs": [
    {
     "data": {
      "image/png": "[encoded data removed]",
      "text/plain": [
       "<Figure size 360x360 with 1 Axes>"
      ]
     },
     "metadata": {
      "needs_background": "light"
     },
     "output_type": "display_data"
    },
    {
     "data": {
      "image/png": "[encoded data removed]",
      "text/plain": [
       "<Figure size 360x360 with 1 Axes>"
      ]
     },
     "metadata": {
      "needs_background": "light"
     },
     "output_type": "display_data"
    }
   ],
   "source": [
    "plot_knn_bound(X, y, n_neighbors=1)\n",
    "plot_knn_bound(X, y, n_neighbors=10)"
   ]
  },
  {
   "cell_type": "markdown",
   "metadata": {
    "id": "cUgvTUtTNo0Q"
   },
   "source": [
    "**Задание 1.2** (кросс, 2 балла) Чем отличаются поверхности, полученные при числе соседей 1 и 10? Объясните, чем вызваны данные отличия"
   ]
  },
  {
   "cell_type": "markdown",
   "metadata": {
    "id": "6rexlqrVNo0R"
   },
   "source": [
    "Поверхность в случае k=10 соседей более гладкая, чем в случае k=1 соседа. Это обосновывается тем, что модель, соответствующая k=1, является более \"гибкой\" с точки зрения машинного обучения, а в случае k=10 более регуляризованной или \"неповоротливой\", поскольку при k=10 мы усредняем ответ по 10 ближайшим соседям, и влияние каждого отдельного объекта на разделяющую поверхность более сглаженное."
   ]
  },
  {
   "cell_type": "markdown",
   "metadata": {
    "id": "dp5ydFxuNo0R"
   },
   "source": [
    "**Задание 1.3** (кросс, 3 балла) Объясните, почему наблюдается сильное отклоенние разделяющей поверхности от прямой $x=0$ при значениях $y < -10$ и $y > 10$"
   ]
  },
  {
   "cell_type": "markdown",
   "metadata": {
    "id": "okwJVgRoNo0R"
   },
   "source": [
    "Это происходит из-за расположения объектов обоих классов на краях этих двух кластеров. Как видно, кластер точек класса +1 чуть более вытянутый вдоль оси y, поэтому если взять далекую точку около оси x=0, сдвинутую чуть правее, она будет ближе к объектам первого класса. Чтобы точка стала ближе к объектам класса 0, приходится довольно сильно сдвигаться вправо."
   ]
  },
  {
   "cell_type": "markdown",
   "metadata": {
    "id": "BJyf-4CTNo0R"
   },
   "source": [
    "Данную проблему может решить нормализация признакового пространства. \n",
    "\n",
    "**Задание 1.4** (кросс, 1 балл) Начертите разделяющие поверхности для $KNN$, обученного на нормализованных признаках с помощью реализованных вами нормализаторов. Используйте функцию $plot\\_knn\\_bound$"
   ]
  },
  {
   "cell_type": "code",
   "execution_count": null,
   "metadata": {
    "id": "ZTIY8GogNo0R",
    "outputId": "89b8e255-4358-4f30-8140-d9dcbf3b44fd"
   },
   "outputs": [
    {
     "data": {
      "image/png": "[encoded data removed]",
      "text/plain": [
       "<Figure size 360x360 with 1 Axes>"
      ]
     },
     "metadata": {
      "needs_background": "light"
     },
     "output_type": "display_data"
    },
    {
     "data": {
      "image/png": "[encoded data removed]",
      "text/plain": [
       "<Figure size 360x360 with 1 Axes>"
      ]
     },
     "metadata": {
      "needs_background": "light"
     },
     "output_type": "display_data"
    }
   ],
   "source": [
    "scaler = StandardScaler()\n",
    "scaler.fit(X)\n",
    "X_standard_normalized = scaler.transform(X)\n",
    "plot_knn_bound(X_standard_normalized, y, n_neighbors=1, ylim=(-5, 5))\n",
    "plot_knn_bound(X_standard_normalized, y, n_neighbors=10, ylim=(-5, 5))"
   ]
  },
  {
   "cell_type": "code",
   "execution_count": null,
   "metadata": {
    "id": "u9TK8TzVNo0R",
    "outputId": "b6f931ec-645f-45ab-c33a-cd9d5ed106fb"
   },
   "outputs": [
    {
     "data": {
      "image/png": "[encoded data removed]",
      "text/plain": [
       "<Figure size 360x360 with 1 Axes>"
      ]
     },
     "metadata": {
      "needs_background": "light"
     },
     "output_type": "display_data"
    },
    {
     "data": {
      "image/png": "[encoded data removed]",
      "text/plain": [
       "<Figure size 360x360 with 1 Axes>"
      ]
     },
     "metadata": {
      "needs_background": "light"
     },
     "output_type": "display_data"
    }
   ],
   "source": [
    "scaler = MinMaxScaler()\n",
    "scaler.fit(X)\n",
    "X_minmax_normalized = scaler.transform(X)\n",
    "plot_knn_bound(X_minmax_normalized, y, n_neighbors=1, ylim=(-1, 2), xlim=(-5, 5))\n",
    "plot_knn_bound(X_minmax_normalized, y, n_neighbors=10, ylim=(-1, 2), xlim=(-5, 5))"
   ]
  },
  {
   "cell_type": "markdown",
   "metadata": {
    "id": "XgE7UJKeNo0S"
   },
   "source": [
    "**Задание 1.5** (кросс, 4 балла) Пусть дано произвольное число точек на плоскости. Представим, что каждая точка - это отдельный класс. Пусть на данной выборке был обучен $1$-$NN$ классификатор. Чем с геометрической точки зрения являются раделяющие поверхности этого классификатора? Приведите доказательство для произвольного числа точек\n",
    "\n",
    "В качестве примера ниже представлена визуализация для четырех точек"
   ]
  },
  {
   "cell_type": "code",
   "execution_count": null,
   "metadata": {
    "id": "49wYaZDaNo0S",
    "outputId": "af33a2c4-67f8-466d-d3dc-f2d70d066b4f"
   },
   "outputs": [
    {
     "data": {
      "image/png": "[encoded data removed]",
      "text/plain": [
       "<Figure size 360x360 with 1 Axes>"
      ]
     },
     "metadata": {
      "needs_background": "light"
     },
     "output_type": "display_data"
    }
   ],
   "source": [
    "X = np.random.randn(4, 2)\n",
    "y = np.arange(4)\n",
    "plot_knn_bound(X, y, n_neighbors=1, xlim=(-3, 3), ylim=(-3, 3))"
   ]
  },
  {
   "cell_type": "markdown",
   "metadata": {
    "id": "SY2marBDNo0S"
   },
   "source": [
    "Разделяющие поверхности будут прямыми, лучами или отрезками. Разбиение плоскости на такие области называется диаграммой Вороного."
   ]
  },
  {
   "cell_type": "markdown",
   "metadata": {
    "id": "PifFhUcwNo0S"
   },
   "source": [
    "<img src=\"https://upload.wikimedia.org/wikipedia/commons/thumb/2/20/Coloured_Voronoi_2D.svg/1200px-Coloured_Voronoi_2D.svg.png\" style=\"width: 500px;\">"
   ]
  },
  {
   "cell_type": "markdown",
   "metadata": {
    "id": "cUsvlsVRNo0S"
   },
   "source": [
    "Докажем сначала, что прямая, луч или отрезок может являться разделяющей поверхностью в этом случае.<br>\n",
    "1) Прямую мы получим, если возьмем 2 точки разных классов, тогда как раз разделяющая поверхность будет прямой.<br>\n",
    "2) Лучи мы получим в случае трех точек, расположенных как правильный треугольник.<br>\n",
    "3) Отрезки мы будем часто получать в общем случае (см картинку выше).<br>"
   ]
  },
  {
   "cell_type": "markdown",
   "metadata": {
    "id": "MHya8v4aNo0S"
   },
   "source": [
    "Тот факт, что больше ничего быть не может, следует из следующего факта. Во-первых, рассмотрим точку вблизи двух каких-то фиксированных точек, так что остальные точки не будут влиять на нее, при малых отклонениях от исходного положения. Пусть $y_0, y_1$ - фиксированные точки. Найдем разделяющую поверхность между ними: $\\{x: d(x, y_0)=d(x, y_1)\\}$:\n",
    "$$d(x, y_0)=d(x, y_1)$$\n",
    "$$\\sum_{i=1}^n (x_i - y_{0i})^2 = \\sum_{i=1}^n (x_i - y_{1i})^2 $$\n",
    "$$\\sum_{i=1}^n \\left(x_i^2 - 2x_iy_{0i} + y_{0i}^2\\right) = \\sum_{i=1}^n \\left( x_i^2 - 2x_iy_{1i} + y_{1i}^2 \\right)$$\n",
    "\\$$\\sum_{i=1}^n \\left(- 2x_iy_{0i} + 2x_iy_{1i} \\right) = \\sum_{i=1}^n \\left(- y_{0i}^2  + y_{1i}^2 \\right)$$"
   ]
  },
  {
   "cell_type": "markdown",
   "metadata": {
    "id": "9XANuVdPNo0T"
   },
   "source": [
    "Отсюда следует, что множество $x$ - это решение СЛАУ, а значит, в двумерном случае это будет прямой."
   ]
  },
  {
   "cell_type": "markdown",
   "metadata": {
    "id": "dITnnL7LNo0T"
   },
   "source": [
    "# Часть 2. Кросс-валидация на задаче регрессии"
   ]
  },
  {
   "cell_type": "markdown",
   "metadata": {
    "id": "cN1AF3ovNo0T"
   },
   "source": [
    "При решении прикладных задач, как правило, доступна лишь обучающая выборка. Для того чтобы иметь возможность оценить качество модели на тестовой выборке, прибегают к методу, называемому кросс-валидация. Пусть зафиксирован некоторый набор параметров модели. В $KNN$ под параметрами могут пониматься число соседей, метрика близости $\\rho$, стратегия выбора весов $w_i$. При кросс-валидации **обучающая** выборка делится на $n$ равных частей (folds). Затем обучаются $n$ моделей с заданными параметрами (у всех моделей параметры одинаковые и фиксированы) - $i$-ая модель обучается на всей обучающей выборке, кроме объектов, которые попали в $i$-ый фолд (out-of-fold). Затем измеряется качество $i$-ой модели на $i$-ом фолде. Так как он не участвовал в обучении этой модели, то полученная оценка качества модели будет являться корректной. Финальным значением метрики качества для модели с заданными параметрами является среднее полученных нами значений на $n$ фолдах.\n",
    "\n",
    "Принцип работы кросс-валидации схематично изображен на рисунке.\n",
    "\n",
    "<img src=\"cross-val.png\" style=\"width: 700px;\">"
   ]
  },
  {
   "cell_type": "markdown",
   "metadata": {
    "id": "PzEtQx1INo0T"
   },
   "source": [
    "**Задание 2.1** (тест, 10 баллов) В модуле cross\\_val.py реализуйте функции\n",
    "\n",
    "* $kfold\\_split$, которая реализует генерацию индексов обучающей и валидационной выборок для кросс-валидации\n",
    "* $knn\\_cv\\_score$, которая реализует кросс-валидацию для $KNN-$модели"
   ]
  },
  {
   "cell_type": "markdown",
   "metadata": {
    "id": "B1XyEYZ5No0T"
   },
   "source": [
    "Далее будем решать задачу предсказания цены дома в Бостоне с помощью $KNN$-регрессии. В качестве метрики качества будем использовать $R^2-$score.\n",
    "\n",
    "$R^2(y\\_true, y\\_predict) = 1 - \\frac{\\sum_{i=1}^{n} (y\\_true_i - y\\_predict_i)^2}{\\sum_{i=1}^{n} (y\\_true_i - E(y\\_true))^2}$\n",
    "\n",
    "Наилучшее значение метрики равно $1.0$, метрика может принимать отрицательные значения"
   ]
  },
  {
   "cell_type": "code",
   "execution_count": null,
   "metadata": {
    "id": "hK9hsI8ENo0T"
   },
   "outputs": [],
   "source": [
    "from sklearn.datasets import load_boston\n",
    "from sklearn.model_selection import train_test_split"
   ]
  },
  {
   "cell_type": "code",
   "execution_count": null,
   "metadata": {
    "id": "bxVqqvOPNo0T"
   },
   "outputs": [],
   "source": [
    "X, y = load_boston(return_X_y=True)"
   ]
  },
  {
   "cell_type": "markdown",
   "metadata": {
    "id": "gTwLkBxANo0T"
   },
   "source": [
    "**Задание 2.2** (кросс, 1 балл) Разбейте выборку на обучающую (75%) и тестовую (25%) с помощью функции $train\\_test\\_split$. Используйте параметр **random_state=42!** Не забудьте перемешать данные перед разбиением (см. параметры функции). Запустите кросс-валидацию на 3 фолдах с помощью реализованных вами функций $kfold\\_split$, $knn\\_cv\\_score$. В качестве метрики используйте $r2\\_score$. Параметры для перебора описаны ниже"
   ]
  },
  {
   "cell_type": "code",
   "execution_count": null,
   "metadata": {
    "id": "x3BlKxBmNo0U"
   },
   "outputs": [],
   "source": [
    "X_train, X_test, y_train, y_test = train_test_split(X, y, test_size=0.25, shuffle=True, random_state=42)"
   ]
  },
  {
   "cell_type": "code",
   "execution_count": null,
   "metadata": {
    "id": "97ZfTX_vNo0U"
   },
   "outputs": [],
   "source": [
    "from sklearn.metrics import r2_score\n",
    "\n",
    "parameters = {\n",
    "    'n_neighbors': [1, 5, 10],\n",
    "    'metrics': ['euclidean', 'cosine'],\n",
    "    'weights': ['uniform', 'distance'],\n",
    "    'normalizers': [(None, 'None'), (MinMaxScaler(), 'MinMax'), (StandardScaler(), 'Standard')]\n",
    "}\n",
    "score_function = r2_score"
   ]
  },
  {
   "cell_type": "markdown",
   "metadata": {
    "id": "jgkSTttSNo0U"
   },
   "source": [
    "Положите файл cross_val.py в одну директорию с jupyter ноутбуком"
   ]
  },
  {
   "cell_type": "code",
   "execution_count": null,
   "metadata": {
    "id": "OsU-NlAzNo0U"
   },
   "outputs": [],
   "source": [
    "from cross_val import kfold_split, knn_cv_score\n",
    "n_folds = 3\n",
    "folds = kfold_split(X_train.shape[0], n_folds)\n",
    "out = knn_cv_score(X_train, y_train, parameters, score_function, folds, neighbors.KNeighborsRegressor)"
   ]
  },
  {
   "cell_type": "markdown",
   "metadata": {
    "id": "cGhzvq0ONo0U"
   },
   "source": [
    "**Задание 2.3** (кросс, 3 балла) Какой наибольший $r2\\_score$ удалось достичь на валидации? Какие закономерности вы видите? Обучите модель с наилучшими параметрами на всей обучающей выборке, измерьте $r2\\_score$ на тестовой выборке."
   ]
  },
  {
   "cell_type": "markdown",
   "metadata": {
    "id": "pqyUbkbCNo0U"
   },
   "source": [
    "Выведите результаты кросс-валидации"
   ]
  },
  {
   "cell_type": "code",
   "execution_count": null,
   "metadata": {
    "id": "V52lLmRoNo0V",
    "outputId": "da96c0ea-3f7d-4d85-d7f5-3b9adecfaa5d"
   },
   "outputs": [
    {
     "data": {
      "text/plain": [
       "{('None', 1, 'euclidean', 'uniform'): 0.32798718613907635,\n",
       " ('None', 1, 'euclidean', 'distance'): 0.32798718613907635,\n",
       " ('None', 1, 'cosine', 'uniform'): 0.2706841763263995,\n",
       " ('None', 1, 'cosine', 'distance'): 0.2706841763263995,\n",
       " ('None', 5, 'euclidean', 'uniform'): 0.4073418807077696,\n",
       " ('None', 5, 'euclidean', 'distance'): 0.4618360836998872,\n",
       " ('None', 5, 'cosine', 'uniform'): 0.4562802468921873,\n",
       " ('None', 5, 'cosine', 'distance'): 0.4997134296256522,\n",
       " ('None', 10, 'euclidean', 'uniform'): 0.3670573803440682,\n",
       " ('None', 10, 'euclidean', 'distance'): 0.45453774268456987,\n",
       " ('None', 10, 'cosine', 'uniform'): 0.39658093087459156,\n",
       " ('None', 10, 'cosine', 'distance'): 0.5061782278218278,\n",
       " ('MinMax', 1, 'euclidean', 'uniform'): 0.7205015731772786,\n",
       " ('MinMax', 1, 'euclidean', 'distance'): 0.7205015731772787,\n",
       " ('MinMax', 1, 'cosine', 'uniform'): 0.710556859845133,\n",
       " ('MinMax', 1, 'cosine', 'distance'): 0.710556859845133,\n",
       " ('MinMax', 5, 'euclidean', 'uniform'): 0.6484521154941817,\n",
       " ('MinMax', 5, 'euclidean', 'distance'): 0.7309097149007378,\n",
       " ('MinMax', 5, 'cosine', 'uniform'): 0.6637075794591617,\n",
       " ('MinMax', 5, 'cosine', 'distance'): 0.7838913979622362,\n",
       " ('MinMax', 10, 'euclidean', 'uniform'): 0.6072198008324097,\n",
       " ('MinMax', 10, 'euclidean', 'distance'): 0.6906726871515799,\n",
       " ('MinMax', 10, 'cosine', 'uniform'): 0.6077295384442967,\n",
       " ('MinMax', 10, 'cosine', 'distance'): 0.7593662843362757,\n",
       " ('Standard', 1, 'euclidean', 'uniform'): 0.7277979012952706,\n",
       " ('Standard', 1, 'euclidean', 'distance'): 0.7277979012952703,\n",
       " ('Standard', 1, 'cosine', 'uniform'): 0.7175103068303716,\n",
       " ('Standard', 1, 'cosine', 'distance'): 0.7175103068303716,\n",
       " ('Standard', 5, 'euclidean', 'uniform'): 0.6990468576824548,\n",
       " ('Standard', 5, 'euclidean', 'distance'): 0.76086114026528,\n",
       " ('Standard', 5, 'cosine', 'uniform'): 0.6925407172066219,\n",
       " ('Standard', 5, 'cosine', 'distance'): 0.7734933476304353,\n",
       " ('Standard', 10, 'euclidean', 'uniform'): 0.7022222695198481,\n",
       " ('Standard', 10, 'euclidean', 'distance'): 0.7466700102355973,\n",
       " ('Standard', 10, 'cosine', 'uniform'): 0.7096596518668199,\n",
       " ('Standard', 10, 'cosine', 'distance'): 0.7801368630961365}"
      ]
     },
     "execution_count": 16,
     "metadata": {},
     "output_type": "execute_result"
    }
   ],
   "source": [
    "out"
   ]
  },
  {
   "cell_type": "markdown",
   "metadata": {
    "id": "QElwppKKNo0V"
   },
   "source": [
    "Сортировка по значениям:"
   ]
  },
  {
   "cell_type": "code",
   "execution_count": null,
   "metadata": {
    "id": "hMte8WjhNo0V",
    "outputId": "6449bde1-867a-421c-a76b-feb44ab36dda"
   },
   "outputs": [
    {
     "data": {
      "text/plain": [
       "{('MinMax', 5, 'cosine', 'distance'): 0.7838913979622362,\n",
       " ('Standard', 10, 'cosine', 'distance'): 0.7801368630961365,\n",
       " ('Standard', 5, 'cosine', 'distance'): 0.7734933476304353,\n",
       " ('Standard', 5, 'euclidean', 'distance'): 0.76086114026528,\n",
       " ('MinMax', 10, 'cosine', 'distance'): 0.7593662843362757,\n",
       " ('Standard', 10, 'euclidean', 'distance'): 0.7466700102355973,\n",
       " ('MinMax', 5, 'euclidean', 'distance'): 0.7309097149007378,\n",
       " ('Standard', 1, 'euclidean', 'uniform'): 0.7277979012952706,\n",
       " ('Standard', 1, 'euclidean', 'distance'): 0.7277979012952703,\n",
       " ('MinMax', 1, 'euclidean', 'distance'): 0.7205015731772787,\n",
       " ('MinMax', 1, 'euclidean', 'uniform'): 0.7205015731772786,\n",
       " ('Standard', 1, 'cosine', 'uniform'): 0.7175103068303716,\n",
       " ('Standard', 1, 'cosine', 'distance'): 0.7175103068303716,\n",
       " ('MinMax', 1, 'cosine', 'uniform'): 0.710556859845133,\n",
       " ('MinMax', 1, 'cosine', 'distance'): 0.710556859845133,\n",
       " ('Standard', 10, 'cosine', 'uniform'): 0.7096596518668199,\n",
       " ('Standard', 10, 'euclidean', 'uniform'): 0.7022222695198481,\n",
       " ('Standard', 5, 'euclidean', 'uniform'): 0.6990468576824548,\n",
       " ('Standard', 5, 'cosine', 'uniform'): 0.6925407172066219,\n",
       " ('MinMax', 10, 'euclidean', 'distance'): 0.6906726871515799,\n",
       " ('MinMax', 5, 'cosine', 'uniform'): 0.6637075794591617,\n",
       " ('MinMax', 5, 'euclidean', 'uniform'): 0.6484521154941817,\n",
       " ('MinMax', 10, 'cosine', 'uniform'): 0.6077295384442967,\n",
       " ('MinMax', 10, 'euclidean', 'uniform'): 0.6072198008324097,\n",
       " ('None', 10, 'cosine', 'distance'): 0.5061782278218278,\n",
       " ('None', 5, 'cosine', 'distance'): 0.4997134296256522,\n",
       " ('None', 5, 'euclidean', 'distance'): 0.4618360836998872,\n",
       " ('None', 5, 'cosine', 'uniform'): 0.4562802468921873,\n",
       " ('None', 10, 'euclidean', 'distance'): 0.45453774268456987,\n",
       " ('None', 5, 'euclidean', 'uniform'): 0.4073418807077696,\n",
       " ('None', 10, 'cosine', 'uniform'): 0.39658093087459156,\n",
       " ('None', 10, 'euclidean', 'uniform'): 0.3670573803440682,\n",
       " ('None', 1, 'euclidean', 'uniform'): 0.32798718613907635,\n",
       " ('None', 1, 'euclidean', 'distance'): 0.32798718613907635,\n",
       " ('None', 1, 'cosine', 'uniform'): 0.2706841763263995,\n",
       " ('None', 1, 'cosine', 'distance'): 0.2706841763263995}"
      ]
     },
     "execution_count": 17,
     "metadata": {},
     "output_type": "execute_result"
    }
   ],
   "source": [
    "sorted_results = {k: v for k, v in sorted(out.items(), key=lambda item: -item[1])}\n",
    "sorted_results"
   ]
  },
  {
   "cell_type": "markdown",
   "metadata": {
    "id": "F72Rsi8INo0V"
   },
   "source": [
    "Лучшие результаты на кросс-валидации удалось достигнуть со следующими параметрами: scaler - MinMaxScaler, n_neighbors=5, metric - 'cosine', weights - 'distance'. "
   ]
  },
  {
   "cell_type": "markdown",
   "metadata": {
    "id": "5s2hOGSNNo0V"
   },
   "source": [
    "Из закономерностей можно заметить следующее: если не делать нормализацию (MinMax или Standard), то результаты значительно хуже (на кросс валидации они ниже всех по точности). Также в топе лидируют алгоритмы, которые используют 'distance' веса. Также можно увидеть, что в топе алгоритмы, которые используют 5 или 10 ближайших соседей, то есть более сглаженные варианты работают лучше."
   ]
  },
  {
   "cell_type": "markdown",
   "metadata": {
    "id": "KHbTv4hPNo0W"
   },
   "source": [
    "Обучите модель с лучшими по валидации параметрами на обучающей выборке"
   ]
  },
  {
   "cell_type": "code",
   "execution_count": null,
   "metadata": {
    "id": "apHS8E-gNo0W",
    "outputId": "a3fa08f6-376e-4087-a70e-2e9ef7f6eec3"
   },
   "outputs": [
    {
     "name": "stdout",
     "output_type": "stream",
     "text": [
      "Результат лучшей (по кросс-валидации) модели на тестовой выборке: 0.7444270853336894\n"
     ]
    }
   ],
   "source": [
    "best_model = neighbors.KNeighborsRegressor(n_neighbors=5, metric='cosine', weights='distance')\n",
    "scaler = MinMaxScaler()\n",
    "scaler.fit(X_train)\n",
    "X_train_scaled = scaler.transform(X_train)\n",
    "best_model.fit(X_train_scaled, y_train)\n",
    "X_test_scaled = scaler.transform(X_test)\n",
    "predict = best_model.predict(X_test_scaled)\n",
    "print('Результат лучшей (по кросс-валидации) модели на тестовой выборке:', score_function(y_test, predict))"
   ]
  },
  {
   "cell_type": "markdown",
   "metadata": {
    "id": "G1xF8dH6No0W"
   },
   "source": [
    "# Часть 3. Работа с текстовыми данными"
   ]
  },
  {
   "cell_type": "markdown",
   "metadata": {
    "id": "6UYe6Z0dNo0W"
   },
   "source": [
    "Далее будем решать задачу классификации новостного текста к одному из 20 классов, каждый класс соответствует определенной новостной тематике. В качестве метрики качества будем использовать $accuracy\\_score$. Accuracy - это доля верно классифицированных объектов, среди всех объектов выборки."
   ]
  },
  {
   "cell_type": "code",
   "execution_count": null,
   "metadata": {
    "id": "jck4Q8y-No0W"
   },
   "outputs": [],
   "source": [
    "from sklearn.datasets import fetch_20newsgroups\n",
    "from sklearn.feature_extraction.text import CountVectorizer, TfidfVectorizer"
   ]
  },
  {
   "cell_type": "code",
   "execution_count": null,
   "metadata": {
    "id": "xESpaRyNNo0W"
   },
   "outputs": [],
   "source": [
    "X_train, y_train = fetch_20newsgroups(subset='train', return_X_y=True, random_state=42)\n",
    "X_test, y_test = fetch_20newsgroups(subset='test', return_X_y=True, random_state=42)\n",
    "X_train = np.array(X_train)\n",
    "X_test = np.array(X_test)\n",
    "y_train = np.array(y_train)\n",
    "y_test = np.array(y_test)"
   ]
  },
  {
   "cell_type": "code",
   "execution_count": null,
   "metadata": {
    "id": "xSYFYas3No0X",
    "outputId": "75bcc7ec-a951-4d47-ae78-fa464ce2ccc9"
   },
   "outputs": [
    {
     "name": "stdout",
     "output_type": "stream",
     "text": [
      "From: lerxst@wam.umd.edu (where's my thing)\n",
      "Subject: WHAT car is this!?\n",
      "Nntp-Posting-Host: rac3.wam.umd.edu\n",
      "Organization: University of Maryland, College Park\n",
      "Lines: 15\n",
      "\n",
      " I was wondering if anyone out there could enlighten me on this car I saw\n",
      "the other day. It was a 2-door sports car, looked to be from the late 60s/\n",
      "early 70s. It was called a Bricklin. The doors were really small. In addition,\n",
      "the front bumper was separate from the rest of the body. This is \n",
      "all I know. If anyone can tellme a model name, engine specs, years\n",
      "of production, where this car is made, history, or whatever info you\n",
      "have on this funky looking car, please e-mail.\n",
      "\n",
      "Thanks,\n",
      "- IL\n",
      "   ---- brought to you by your neighborhood Lerxst ----\n",
      "\n",
      "\n",
      "\n",
      "\n",
      "\n"
     ]
    }
   ],
   "source": [
    "print(X_train[0])"
   ]
  },
  {
   "cell_type": "markdown",
   "metadata": {
    "id": "asLRNrQTNo0X"
   },
   "source": [
    "Как мы видим, объектами обучающей выборки являются тексты. Сырые текстовые данные не могут служить обучающими примерами для алгоритма $KNN$. Перед использованием $KNN$ текстовые данные переменной длины необходимо отобразить в метрическое пространство фиксированной размерности.\n",
    "\n",
    "Работа с текстовыми данными проходит в несколько этапов.\n",
    "\n",
    "* **Токенизация.** Текстовая строка делится на токены. Как правило, в качестве токенов выступают отдельные слова и знаки препинания.\n",
    "\n",
    "* **Нормализация.** Приведение к нижнему регистру, удаление стоп-слов, удаление пунктуации, удаление редких и частотных слов и т.д.\n",
    "\n",
    "* **Векторизация.** Фиксируется словарь токенов $V$ по **обучающей** выборке. Текст представлется в виде вектора длиной $|V|$, где каждый признак есть функция от частоты встречаемости токена в тексте и в обучающей выборке.\n",
    "\n",
    "В данном задании будет использовано два вида векторизации. Первый, $CountVectorizer$, сопоставляет каждому токену частоту встречаемости этого токена в тексте документа. Второй, $TfidfVectorizer$, сопоставляет каждому токену частоту встречаемости этого токена в тексте документа умноженную на величину обратно пропорциональную частоте встречаемости токена во всех документах **обучающей** выборки. Подробне про $tf-idf$ можно прочитать [здесь](https://ru.wikipedia.org/wiki/TF-IDF)."
   ]
  },
  {
   "cell_type": "markdown",
   "metadata": {
    "id": "l-UpTyw_No0X"
   },
   "source": [
    "В sklearn все векторизаторы автоматически токенизируют текст и приводят его к нижнему регистру. Параметры $max\\_df$ и $min\\_df$ позволяют убрать из словаря наиболее частые и наиболее редкие токены. Параметр $stop\\_words$ позволяет убрать из словаря стоп-слова (малоинформативные слова для данного языка, например, союзы)."
   ]
  },
  {
   "cell_type": "code",
   "execution_count": null,
   "metadata": {
    "id": "V2GNnHYuNo0X"
   },
   "outputs": [],
   "source": [
    "count_vec = CountVectorizer(max_df=0.8, min_df=10, stop_words='english')\n",
    "tf_idf = TfidfVectorizer(max_df=0.8, min_df=10, stop_words='english')"
   ]
  },
  {
   "cell_type": "markdown",
   "metadata": {
    "id": "FlWcmFsZNo0X"
   },
   "source": [
    "**Задание 3.1** (кросс, 2 балла) Найдите оптимальные параметры обучения модели. Осуществлять перебор параметров следует по заданной ниже сетке. Используйте реализованные вами функции $kfold\\_split$, $knn\\_cv\\_score$. В качестве метрики используйте $accuracy\\_score$."
   ]
  },
  {
   "cell_type": "code",
   "execution_count": null,
   "metadata": {
    "id": "sME4sBfJNo0X"
   },
   "outputs": [],
   "source": [
    "from sklearn.metrics import accuracy_score\n",
    "\n",
    "parameters = {\n",
    "    'n_neighbors': [i for i in range(1, 11)],\n",
    "    'metrics': ['euclidean', 'cosine'],\n",
    "    'weights': ['uniform', 'distance'],\n",
    "    'normalizers': [(count_vec, 'CountVectorizer'), (tf_idf, 'TfidfVectorizer')]\n",
    "}"
   ]
  },
  {
   "cell_type": "code",
   "execution_count": null,
   "metadata": {
    "id": "Buu1HwX2No0X"
   },
   "outputs": [],
   "source": [
    "from cross_val import kfold_split, knn_cv_score\n",
    "n_folds = 3\n",
    "folds = kfold_split(len(X_train), n_folds)\n",
    "out = knn_cv_score(X_train, y_train, parameters, accuracy_score, folds, neighbors.KNeighborsClassifier)"
   ]
  },
  {
   "cell_type": "markdown",
   "metadata": {
    "id": "xEEpLhcqNo0Y"
   },
   "source": [
    "**Задание 3.2** (кросс, 2 балла) Какой метод предобработки данных в среднем дает наилучший результат? Почему?"
   ]
  },
  {
   "cell_type": "code",
   "execution_count": null,
   "metadata": {
    "id": "kt1DmUQiNo0Y",
    "outputId": "4d21180e-f96e-4584-c992-8090d8f58ccf"
   },
   "outputs": [
    {
     "data": {
      "text/plain": [
       "{('TfidfVectorizer', 4, 'cosine', 'distance'): 0.7822165473911665,\n",
       " ('TfidfVectorizer', 1, 'euclidean', 'uniform'): 0.7820399236644299,\n",
       " ('TfidfVectorizer', 1, 'euclidean', 'distance'): 0.7820399236644299,\n",
       " ('TfidfVectorizer', 1, 'cosine', 'uniform'): 0.7820399236644299,\n",
       " ('TfidfVectorizer', 1, 'cosine', 'distance'): 0.7820399236644299,\n",
       " ('TfidfVectorizer', 2, 'euclidean', 'distance'): 0.7820399236644299,\n",
       " ('TfidfVectorizer', 2, 'cosine', 'distance'): 0.7820399236644299,\n",
       " ('TfidfVectorizer', 6, 'cosine', 'distance'): 0.7799182595609984,\n",
       " ('TfidfVectorizer', 8, 'cosine', 'distance'): 0.7797413311893834,\n",
       " ('TfidfVectorizer', 5, 'cosine', 'distance'): 0.7793883649465666,\n",
       " ('TfidfVectorizer', 7, 'cosine', 'distance'): 0.7792995258132166,\n",
       " ('TfidfVectorizer', 9, 'cosine', 'distance'): 0.7786807451969923,\n",
       " ('TfidfVectorizer', 3, 'cosine', 'distance'): 0.7776204404152581,\n",
       " ('TfidfVectorizer', 10, 'cosine', 'distance'): 0.7768247782958616,\n",
       " ('TfidfVectorizer', 4, 'euclidean', 'distance'): 0.7763831603934662,\n",
       " ('TfidfVectorizer', 3, 'euclidean', 'distance'): 0.7732895619572223,\n",
       " ('TfidfVectorizer', 5, 'euclidean', 'distance'): 0.7702846386147789,\n",
       " ('TfidfVectorizer', 6, 'euclidean', 'distance'): 0.7702842167987934,\n",
       " ('TfidfVectorizer', 8, 'euclidean', 'distance'): 0.768427851515899,\n",
       " ('TfidfVectorizer', 7, 'euclidean', 'distance'): 0.7682512980918262,\n",
       " ('CountVectorizer', 1, 'cosine', 'uniform'): 0.7664838188107246,\n",
       " ('CountVectorizer', 1, 'cosine', 'distance'): 0.7664838188107246,\n",
       " ('CountVectorizer', 2, 'cosine', 'distance'): 0.7664838188107246,\n",
       " ('TfidfVectorizer', 9, 'euclidean', 'distance'): 0.7662183793848593,\n",
       " ('TfidfVectorizer', 10, 'euclidean', 'distance'): 0.7644505720246576,\n",
       " ('CountVectorizer', 4, 'cosine', 'distance'): 0.7621527763131389,\n",
       " ('CountVectorizer', 3, 'cosine', 'distance'): 0.7613573016675136,\n",
       " ('CountVectorizer', 5, 'cosine', 'distance'): 0.7596783334406619,\n",
       " ('CountVectorizer', 6, 'cosine', 'distance'): 0.7573800690447152,\n",
       " ('CountVectorizer', 7, 'cosine', 'distance'): 0.7547287212348448,\n",
       " ('CountVectorizer', 8, 'cosine', 'distance'): 0.7546402336148158,\n",
       " ('CountVectorizer', 9, 'cosine', 'distance'): 0.752518897590484,\n",
       " ('CountVectorizer', 10, 'cosine', 'distance'): 0.7490715595821172,\n",
       " ('TfidfVectorizer', 7, 'euclidean', 'uniform'): 0.743768559317498,\n",
       " ('TfidfVectorizer', 7, 'cosine', 'uniform'): 0.743768559317498,\n",
       " ('TfidfVectorizer', 5, 'euclidean', 'uniform'): 0.7437684890148337,\n",
       " ('TfidfVectorizer', 5, 'cosine', 'uniform'): 0.7437684890148337,\n",
       " ('TfidfVectorizer', 8, 'euclidean', 'uniform'): 0.7434150072191462,\n",
       " ('TfidfVectorizer', 8, 'cosine', 'uniform'): 0.7434150072191462,\n",
       " ('TfidfVectorizer', 9, 'euclidean', 'uniform'): 0.7434149369164821,\n",
       " ('TfidfVectorizer', 9, 'cosine', 'uniform'): 0.7434149369164821,\n",
       " ('TfidfVectorizer', 6, 'euclidean', 'uniform'): 0.7419123112057103,\n",
       " ('TfidfVectorizer', 6, 'cosine', 'uniform'): 0.7419123112057103,\n",
       " ('TfidfVectorizer', 4, 'euclidean', 'uniform'): 0.7405870591167605,\n",
       " ('TfidfVectorizer', 4, 'cosine', 'uniform'): 0.7405870591167605,\n",
       " ('TfidfVectorizer', 3, 'euclidean', 'uniform'): 0.7404982902860747,\n",
       " ('TfidfVectorizer', 3, 'cosine', 'uniform'): 0.7404982902860747,\n",
       " ('TfidfVectorizer', 10, 'euclidean', 'uniform'): 0.7396142342835348,\n",
       " ('TfidfVectorizer', 10, 'cosine', 'uniform'): 0.7396142342835348,\n",
       " ('TfidfVectorizer', 2, 'euclidean', 'uniform'): 0.731395102941379,\n",
       " ('TfidfVectorizer', 2, 'cosine', 'uniform'): 0.731395102941379,\n",
       " ('CountVectorizer', 5, 'cosine', 'uniform'): 0.7214072034359443,\n",
       " ('CountVectorizer', 3, 'cosine', 'uniform'): 0.7189325496554747,\n",
       " ('CountVectorizer', 4, 'cosine', 'uniform'): 0.7185789506886802,\n",
       " ('CountVectorizer', 6, 'cosine', 'uniform'): 0.7177835697799405,\n",
       " ('CountVectorizer', 7, 'cosine', 'uniform'): 0.714336536416452,\n",
       " ('CountVectorizer', 2, 'cosine', 'uniform'): 0.7119503468217899,\n",
       " ('CountVectorizer', 8, 'cosine', 'uniform'): 0.7117733715817322,\n",
       " ('CountVectorizer', 9, 'cosine', 'uniform'): 0.7107129261946697,\n",
       " ('CountVectorizer', 10, 'cosine', 'uniform'): 0.7080610628319283,\n",
       " ('CountVectorizer', 2, 'euclidean', 'distance'): 0.5791930688322138,\n",
       " ('CountVectorizer', 1, 'euclidean', 'uniform'): 0.5788394464311978,\n",
       " ('CountVectorizer', 1, 'euclidean', 'distance'): 0.5788394464311978,\n",
       " ('CountVectorizer', 3, 'euclidean', 'distance'): 0.5679678893049869,\n",
       " ('CountVectorizer', 4, 'euclidean', 'distance'): 0.5582455698307458,\n",
       " ('CountVectorizer', 5, 'euclidean', 'distance'): 0.5412755846627332,\n",
       " ('CountVectorizer', 6, 'euclidean', 'distance'): 0.5322597132269963,\n",
       " ('CountVectorizer', 7, 'euclidean', 'distance'): 0.5197969959015422,\n",
       " ('CountVectorizer', 8, 'euclidean', 'distance'): 0.5134335736840817,\n",
       " ('CountVectorizer', 9, 'euclidean', 'distance'): 0.5054789678331566,\n",
       " ('CountVectorizer', 10, 'euclidean', 'distance'): 0.5007062371305114,\n",
       " ('CountVectorizer', 2, 'euclidean', 'uniform'): 0.47719622945252316,\n",
       " ('CountVectorizer', 4, 'euclidean', 'uniform'): 0.4699484231534232,\n",
       " ('CountVectorizer', 3, 'euclidean', 'uniform'): 0.46897606700462563,\n",
       " ('CountVectorizer', 5, 'euclidean', 'uniform'): 0.46729644261957476,\n",
       " ('CountVectorizer', 6, 'euclidean', 'uniform'): 0.46208143785633493,\n",
       " ('CountVectorizer', 7, 'euclidean', 'uniform'): 0.4561590945541775,\n",
       " ('CountVectorizer', 8, 'euclidean', 'uniform'): 0.4511207135176744,\n",
       " ('CountVectorizer', 9, 'euclidean', 'uniform'): 0.4411328608806824,\n",
       " ('CountVectorizer', 10, 'euclidean', 'uniform'): 0.43503401102289535}"
      ]
     },
     "execution_count": 25,
     "metadata": {},
     "output_type": "execute_result"
    }
   ],
   "source": [
    "# Сортируем по значению метрики\n",
    "sorted_results = {k: v for k, v in sorted(out.items(), key=lambda item: -item[1])}\n",
    "sorted_results"
   ]
  },
  {
   "cell_type": "code",
   "execution_count": null,
   "metadata": {
    "id": "KKJYAfujNo0Y"
   },
   "outputs": [],
   "source": [
    "avg_embedding_sum = {'CountVectorizer': 0, 'TfidfVectorizer': 0}\n",
    "avg_embedding_count = {'CountVectorizer': 0, 'TfidfVectorizer': 0}\n",
    "for k, v in out.items():\n",
    "    if k[0] == 'CountVectorizer':\n",
    "        avg_embedding_sum['CountVectorizer'] += v\n",
    "        avg_embedding_count['CountVectorizer'] += 1\n",
    "    else:\n",
    "        avg_embedding_sum['TfidfVectorizer'] += v\n",
    "        avg_embedding_count['TfidfVectorizer'] += 1\n",
    "avg_emb_score = {k:avg_embedding_sum[k] / avg_embedding_count[k] for k in avg_embedding_sum.keys()}"
   ]
  },
  {
   "cell_type": "code",
   "execution_count": null,
   "metadata": {
    "id": "NpJxVBvpNo0Y",
    "outputId": "25e16a64-c2a9-418e-a6b1-5399d3fee9f8"
   },
   "outputs": [
    {
     "data": {
      "text/plain": [
       "{'CountVectorizer': 0.6222374409914588, 'TfidfVectorizer': 0.7605066798545091}"
      ]
     },
     "execution_count": 27,
     "metadata": {},
     "output_type": "execute_result"
    }
   ],
   "source": [
    "avg_emb_score"
   ]
  },
  {
   "cell_type": "markdown",
   "metadata": {
    "id": "XQSB0jZ-No0Y"
   },
   "source": [
    "В среднем TF-IDF дает лучшую точность. Почему? Видимо, в этом задаче учет весов для редких слов достаточно важен. Вполне логично, что для конкретных тем могут быть характерны достаточно специфические слова."
   ]
  },
  {
   "cell_type": "markdown",
   "metadata": {
    "id": "a9mmgWqENo0Y"
   },
   "source": [
    "**Задание 3.3** (кросс, 2 балла) Какая метрика близости позволяет в среднем достичь наилучшее качество? Почему?"
   ]
  },
  {
   "cell_type": "code",
   "execution_count": null,
   "metadata": {
    "id": "vxtrmtX8No0Y"
   },
   "outputs": [],
   "source": [
    "avg_metric_sum = {'euclidean': 0, 'cosine': 0}\n",
    "avg_metric_count = {'euclidean': 0, 'cosine': 0}\n",
    "for k, v in out.items():\n",
    "    if k[2] == 'euclidean':\n",
    "        avg_metric_sum['euclidean'] += v\n",
    "        avg_metric_count['euclidean'] += 1\n",
    "    else:\n",
    "        avg_metric_sum['cosine'] += v\n",
    "        avg_metric_count['cosine'] += 1\n",
    "avg_metric_score = {k:avg_metric_sum[k] / avg_metric_count[k] for k in avg_metric_sum.keys()}"
   ]
  },
  {
   "cell_type": "code",
   "execution_count": null,
   "metadata": {
    "id": "8cDZP98TNo0Z",
    "outputId": "a2673342-962e-47cf-f03d-0f8a0c3c9d37"
   },
   "outputs": [
    {
     "data": {
      "text/plain": [
       "{'euclidean': 0.631926630335187, 'cosine': 0.7508174905107807}"
      ]
     },
     "execution_count": 29,
     "metadata": {},
     "output_type": "execute_result"
    }
   ],
   "source": [
    "avg_metric_score"
   ]
  },
  {
   "cell_type": "markdown",
   "metadata": {
    "id": "iCrM9MEwNo0Z"
   },
   "source": [
    "Косинусное расстояние работает лучше. В принципе это классика - в similarity search для текстов часто используется косинусное расстояние. Можно это пытаться объяснить тем, что из-за проклятия размерности, в высокоразмерных пространствах с точки зрения евклидовой метрики все объекты находятся (относительно равномерно) далеко от друга, а вот с точки зрения косинусного расстояния можно найти довольно близкие объекты, поскольку они расположены по \"одному направлению\", а на косинусное расстояния влияет не сами координаты объекта, а угол между объектами."
   ]
  },
  {
   "cell_type": "markdown",
   "metadata": {
    "id": "vh_NjRFfNo0Z"
   },
   "source": [
    "**Задание 3.4** (кросс, 2 балла) Начертите график зависимости метрики качества от числа соседей. Метрику следует усреднить по всем параматрам, кроме числа соседей. Сделайте выводы о наблюдаемых зависимостях (возможно будет полезным ознакомиться с названиями классов)"
   ]
  },
  {
   "cell_type": "code",
   "execution_count": null,
   "metadata": {
    "id": "Z54CcqtvNo0Z"
   },
   "outputs": [],
   "source": [
    "avg_neighbors_sum = {k:0 for k in range(1, 11)}\n",
    "avg_neighbors_count = {k:0 for k in range(1, 11)}\n",
    "for k, v in out.items():\n",
    "    avg_neighbors_sum[k[1]] += v\n",
    "    avg_neighbors_count[k[1]] += 1\n",
    "avg_neighbors_score = {k:avg_neighbors_sum[k] / avg_neighbors_count[k] for k in avg_neighbors_sum.keys()}"
   ]
  },
  {
   "cell_type": "code",
   "execution_count": null,
   "metadata": {
    "id": "nseIrH4WNo0Z",
    "outputId": "e90e76c5-4adb-4ed8-e1a5-7177ea0f1590"
   },
   "outputs": [
    {
     "data": {
      "text/plain": [
       "{1: 0.7273507781426954,\n",
       " 2: 0.6952116896411086,\n",
       " 3: 0.6936425488221538,\n",
       " 4: 0.6935874432505177,\n",
       " 5: 0.6908584432187408,\n",
       " 6: 0.6879414860848998,\n",
       " 7: 0.6850136613308819,\n",
       " 8: 0.6832458861927349,\n",
       " 9: 0.6801965813642261,\n",
       " 10: 0.6766720861818801}"
      ]
     },
     "execution_count": 31,
     "metadata": {},
     "output_type": "execute_result"
    }
   ],
   "source": [
    "avg_neighbors_score"
   ]
  },
  {
   "cell_type": "code",
   "execution_count": null,
   "metadata": {
    "id": "OlIXOaJvNo0Z",
    "outputId": "1a40518d-d27c-4f1c-e315-e5b0d0a86a85"
   },
   "outputs": [
    {
     "data": {
      "text/plain": [
       "[<matplotlib.lines.Line2D at 0x7f63425e9670>]"
      ]
     },
     "execution_count": 32,
     "metadata": {},
     "output_type": "execute_result"
    },
    {
     "data": {
      "image/png": "[encoded data removed]",
      "text/plain": [
       "<Figure size 720x360 with 1 Axes>"
      ]
     },
     "metadata": {
      "needs_background": "light"
     },
     "output_type": "display_data"
    }
   ],
   "source": [
    "plt.figure(figsize=(10, 5))\n",
    "plt.xticks(range(1, 11))\n",
    "plt.xlabel('Число соседей')\n",
    "plt.ylabel('Усредненная точность на кросс-валидации')\n",
    "plt.plot(avg_neighbors_score.keys(), avg_neighbors_score.values())"
   ]
  },
  {
   "cell_type": "markdown",
   "metadata": {
    "id": "_cVqj_WxNo0Z"
   },
   "source": [
    "Как видим, с увеличением числа соседей в нашем случае точность падает. Причем выбивается значительно лучшая точность при k=1. Почему это так - сказать сложно. Возможно, это связано с достаточно близким расположением классов, поэтому для некоторых классов при k > 1 появляются некоторые шумовые факторы, которые уменьшаются точность. Но в целом это просто эмпирический факт, который не всегда имеет смысл пытаться логически обосновывать."
   ]
  },
  {
   "cell_type": "markdown",
   "metadata": {
    "id": "ZgTftqwQNo0Z"
   },
   "source": [
    "**Задание 3.5** (кросс, 3 балла) Оцените точность вашей лучшей модели на тестовой части датасета. Отличается ли оно от качества, полученного на кросс-валидации? Почему?"
   ]
  },
  {
   "cell_type": "code",
   "execution_count": null,
   "metadata": {
    "id": "io4nOnxeNo0a"
   },
   "outputs": [],
   "source": [
    "vectorizer = TfidfVectorizer()\n",
    "vectorizer.fit(X_train)\n",
    "X_train_vec = vectorizer.transform(X_train)\n",
    "X_test_vec = vectorizer.transform(X_test)"
   ]
  },
  {
   "cell_type": "code",
   "execution_count": null,
   "metadata": {
    "id": "8aaj5PthNo0a"
   },
   "outputs": [],
   "source": [
    "model = neighbors.KNeighborsClassifier(n_neighbors=4, metric='cosine', weights='distance')\n",
    "model.fit(X_train_vec, y_train)\n",
    "predict = model.predict(X_test_vec)"
   ]
  },
  {
   "cell_type": "code",
   "execution_count": null,
   "metadata": {
    "id": "MqO9u4cCNo0a",
    "outputId": "027b1fd2-d59c-4d6e-f688-380bf048918c"
   },
   "outputs": [
    {
     "data": {
      "text/plain": [
       "0.6865374402549124"
      ]
     },
     "execution_count": 35,
     "metadata": {},
     "output_type": "execute_result"
    }
   ],
   "source": [
    "accuracy_score(predict, y_test)"
   ]
  },
  {
   "cell_type": "markdown",
   "metadata": {
    "id": "hRCd0Io4No0a"
   },
   "source": [
    "Точность ниже, чем для топовых наборов параметров на кросс-валидации, но не очень сильно ниже. К примеру, для некоторых наборов параметров на кросс-валидации у нас были значения точности ниже 0.5, так что 0.68 - хороший результат на тесте. Однако не стоит ожидать, что результат на тесте всегда будет таким же, каким и на кросс-валидации, ведь мы пытаемся подобрать лучшие параметры для кросс-валидации, то есть в некотором смысле оверфитимся на нее. Просто такой способ перебора параметров обычно дает лучшие результаты на тесте, поскольку мы усредняем ответы по фолдам."
   ]
  },
  {
   "cell_type": "markdown",
   "metadata": {
    "id": "4FZ14byyNo0a"
   },
   "source": [
    "**(!)** А теперь перезапустите ноутбук: Kernel -> Restart & Run All"
   ]
  }
 ],
 "metadata": {
  "colab": {
   "collapsed_sections": [],
   "name": "KNN.ipynb",
   "provenance": []
  },
  "kernelspec": {
   "display_name": "Python 3 (ipykernel)",
   "language": "python",
   "name": "python3"
  },
  "language_info": {
   "codemirror_mode": {
    "name": "ipython",
    "version": 3
   },
   "file_extension": ".py",
   "mimetype": "text/x-python",
   "name": "python",
   "nbconvert_exporter": "python",
   "pygments_lexer": "ipython3",
   "version": "3.10.4"
  }
 },
 "nbformat": 4,
 "nbformat_minor": 1
}
